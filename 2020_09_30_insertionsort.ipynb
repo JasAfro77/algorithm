{
  "nbformat": 4,
  "nbformat_minor": 0,
  "metadata": {
    "colab": {
      "name": "2020/09/30_insertionsort.ipynb",
      "provenance": [],
      "collapsed_sections": [],
      "authorship_tag": "ABX9TyMIdBs4c4uljtZJfF4hLDds",
      "include_colab_link": true
    },
    "kernelspec": {
      "name": "python3",
      "display_name": "Python 3"
    }
  },
  "cells": [
    {
      "cell_type": "markdown",
      "metadata": {
        "id": "view-in-github",
        "colab_type": "text"
      },
      "source": [
        "<a href=\"https://colab.research.google.com/github/JasAfro77/algorithm/blob/master/2020_09_30_insertionsort.ipynb\" target=\"_parent\"><img src=\"https://colab.research.google.com/assets/colab-badge.svg\" alt=\"Open In Colab\"/></a>"
      ]
    },
    {
      "cell_type": "code",
      "metadata": {
        "id": "bnmF71FQB9mq",
        "outputId": "f7532603-3ae6-4eb4-8ba1-60d8b7239e67",
        "colab": {
          "base_uri": "https://localhost:8080/",
          "height": 207
        }
      },
      "source": [
        "def Insertion_Sort(datas): #1\n",
        "    for i in range(1, len(datas)):  # n-1\n",
        "        for j in range(i):  #n(n-1)\n",
        "            current = datas[i] #n^2\n",
        "            if current < datas[j]:  #2(n^2)\n",
        "                for k in range(i,j):\n",
        "                  print(datas)\n",
        "                # Total = n-1+n(n-1)+3n^2+2n^3 = O(N^3)\n",
        "    return datas  \n",
        "    \n",
        "\n",
        "def insertionSort(arr): #1\n",
        "    for i in range(len(arr)): #n\n",
        "        preIndex = i-1  #n\n",
        "        current = arr[i]  #n\n",
        "        while preIndex >= 0 and arr[preIndex] > current:  #n\n",
        "            arr[preIndex+1] = arr[preIndex] #n\n",
        "            preIndex-=1\n",
        "        arr[preIndex+1] = curren  t#n\n",
        "        print(arr)\n",
        "    return arr\n",
        "    #Total = n+n+n+n+n+n = 6n = O(n)\n",
        "\n",
        "if __name__ == '__main__':\n",
        "    import random\n",
        "    a = list(range(10))\n",
        "    random.shuffle(a)\n",
        "    b = a.copy()\n",
        "\n",
        "    arr = insertionSort(a)\n",
        "    print('---'*10)\n",
        "    Insertion_Sort(b)"
      ],
      "execution_count": null,
      "outputs": [
        {
          "output_type": "stream",
          "text": [
            "[4, 8, 6, 5, 1, 7, 2, 3, 0, 9]\n",
            "[4, 8, 6, 5, 1, 7, 2, 3, 0, 9]\n",
            "[4, 6, 8, 5, 1, 7, 2, 3, 0, 9]\n",
            "[4, 5, 6, 8, 1, 7, 2, 3, 0, 9]\n",
            "[1, 4, 5, 6, 8, 7, 2, 3, 0, 9]\n",
            "[1, 4, 5, 6, 7, 8, 2, 3, 0, 9]\n",
            "[1, 2, 4, 5, 6, 7, 8, 3, 0, 9]\n",
            "[1, 2, 3, 4, 5, 6, 7, 8, 0, 9]\n",
            "[0, 1, 2, 3, 4, 5, 6, 7, 8, 9]\n",
            "[0, 1, 2, 3, 4, 5, 6, 7, 8, 9]\n",
            "------------------------------\n"
          ],
          "name": "stdout"
        }
      ]
    }
  ]
}