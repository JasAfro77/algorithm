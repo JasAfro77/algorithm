{
  "nbformat": 4,
  "nbformat_minor": 0,
  "metadata": {
    "colab": {
      "name": "binary_search.ipynb",
      "provenance": [],
      "authorship_tag": "ABX9TyMndMVkfMO+8cs+Q4xjK69J",
      "include_colab_link": true
    },
    "kernelspec": {
      "name": "python3",
      "display_name": "Python 3"
    }
  },
  "cells": [
    {
      "cell_type": "markdown",
      "metadata": {
        "id": "view-in-github",
        "colab_type": "text"
      },
      "source": [
        "<a href=\"https://colab.research.google.com/github/JasAfro77/algorithm/blob/master/binary_search.ipynb\" target=\"_parent\"><img src=\"https://colab.research.google.com/assets/colab-badge.svg\" alt=\"Open In Colab\"/></a>"
      ]
    },
    {
      "cell_type": "code",
      "metadata": {
        "id": "ODBAnGzm9rgx",
        "outputId": "29ae60c6-a363-4c39-901d-082221f3d946",
        "colab": {
          "base_uri": "https://localhost:8080/",
          "height": 34
        }
      },
      "source": [
        "def binarysearch (arr, l, r, x):\n",
        "  if r >= l:\n",
        "\n",
        "    mid = l + (r - 1) // 2\n",
        "\n",
        "    if arr[mid] == x:\n",
        "      return mid\n",
        "    \n",
        "    elif arr[mid] > x:\n",
        "      return binarysearch(arr, l, mid-1, x)\n",
        "    else:\n",
        "      return binarysearch(arr, mid + 1, r, x)\n",
        "  else:\n",
        "    return -1\n",
        "arr = [5, 8, 9, 15, 30]\n",
        "x = 9\n",
        "\n",
        "# Function call\n",
        "result = binarysearch(arr, 0, len(arr)-1, x)\n",
        "\n",
        "if result != -1:\n",
        "  print(\"元素在索引 % d\" % result)\n",
        "else:\n",
        "  print(\"陣列中找不到該元素\" )"
      ],
      "execution_count": 2,
      "outputs": [
        {
          "output_type": "stream",
          "text": [
            "元素在索引  2\n"
          ],
          "name": "stdout"
        }
      ]
    },
    {
      "cell_type": "code",
      "metadata": {
        "id": "8zSyFG1QELuM",
        "outputId": "64a96c8f-d299-4074-f024-379a90f9908f",
        "colab": {
          "base_uri": "https://localhost:8080/",
          "height": 190
        }
      },
      "source": [
        "#修改\n",
        "def Bubble_Sort(datas):\n",
        "    for i in range(1, len(datas)): # \n",
        "        for j in range(len(datas)-i):   # \n",
        "            if datas[j] > datas[j+1]:   # \n",
        "                datas[j], datas[j+1] = datas[j+1], datas[j]\n",
        "    return datas\n",
        "\n",
        "def binarySearch(arr,l,r,x):\n",
        "  if r >= l:\n",
        "    mid = l + (r - l) // 2\n",
        "    if arr[mid] == x:\n",
        "      return mid\n",
        "    elif arr[mid] > x:\n",
        "      return binarySearch(arr,l,mid-1,x)\n",
        "    else:\n",
        "      return binarySearch(arr,mid+1,r,x)\n",
        "  else:\n",
        "    return -1\n",
        "\n",
        "arr = []\n",
        "temp = []\n",
        "for i in range(5):\n",
        "  arr.append(int(input()))\n",
        "temp = arr[:]\n",
        "Bubble_Sort(temp)\n",
        "x = int(input(\"輸入key：\"))\n",
        "result = binarySearch(temp,0,len(temp)-1,x)\n",
        "\n",
        "print(arr)\n",
        "print(temp)\n",
        "print(x)\n",
        "if result != -1:\n",
        "  print(\"元素在索引%d\"%result)\n",
        "else:\n",
        "  print(\"陣列中找不到該元素\")"
      ],
      "execution_count": 8,
      "outputs": [
        {
          "output_type": "stream",
          "text": [
            "5\n",
            "6\n",
            "15\n",
            "20\n",
            "3\n",
            "輸入key：3\n",
            "[5, 6, 15, 20, 3]\n",
            "[3, 5, 6, 15, 20]\n",
            "3\n",
            "元素在索引0\n"
          ],
          "name": "stdout"
        }
      ]
    }
  ]
}