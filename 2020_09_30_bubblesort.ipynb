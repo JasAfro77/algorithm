{
  "nbformat": 4,
  "nbformat_minor": 0,
  "metadata": {
    "colab": {
      "name": "2020/09/30_bubblesort.ipynb",
      "provenance": [],
      "authorship_tag": "ABX9TyM0UxMxFcwfBbvn7igvk/ma",
      "include_colab_link": true
    },
    "kernelspec": {
      "name": "python3",
      "display_name": "Python 3"
    }
  },
  "cells": [
    {
      "cell_type": "markdown",
      "metadata": {
        "id": "view-in-github",
        "colab_type": "text"
      },
      "source": [
        "<a href=\"https://colab.research.google.com/github/JasAfro77/algorithm/blob/master/2020_09_30_bubblesort.ipynb\" target=\"_parent\"><img src=\"https://colab.research.google.com/assets/colab-badge.svg\" alt=\"Open In Colab\"/></a>"
      ]
    },
    {
      "cell_type": "code",
      "metadata": {
        "id": "xJYUc3We9ta7",
        "outputId": "44606bb8-7150-42ee-d5db-235184dd2192",
        "colab": {
          "base_uri": "https://localhost:8080/",
          "height": 234
        }
      },
      "source": [
        "def Bubble_Sort(datas):\n",
        "    for i in range(1, len(datas)): # \n",
        "        for j in range(len(datas)-i):   # \n",
        "            if datas[j] > datas[j+1]:   # \n",
        "                datas[j], datas[j+1] = datas[j+1], datas[j]\n",
        "    return datas\n",
        "\n",
        "\n",
        "if __name__ == '__main__':\n",
        "    import random\n",
        "    print(\"輸入10個數字\") #提醒輸入十個數\n",
        "    x = 0\n",
        "    a = []  #宣告矩陣\n",
        "    for x in range(0,10): #for迴圈輸入\n",
        "        a.append(input()) #for迴圈輸入\n",
        "    \n",
        "    random.shuffle(a)\n",
        "    print(a)\n",
        "    a = Bubble_Sort(a)\n",
        "    print(a)"
      ],
      "execution_count": 2,
      "outputs": [
        {
          "output_type": "stream",
          "text": [
            "輸入10個數字\n",
            "1\n",
            "2\n",
            "\n",
            "4\n",
            "5\n",
            "\n",
            "7\n",
            "8\n",
            "9\n",
            "10\n",
            "['8', '5', '9', '7', '', '', '2', '10', '4', '1']\n",
            "['', '', '1', '10', '2', '4', '5', '7', '8', '9']\n"
          ],
          "name": "stdout"
        }
      ]
    }
  ]
}