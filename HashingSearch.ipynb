{
  "nbformat": 4,
  "nbformat_minor": 0,
  "metadata": {
    "colab": {
      "name": "HashingSearch.ipynb",
      "provenance": [],
      "authorship_tag": "ABX9TyOjBlQ5AsDZZjJsyn41UXlI",
      "include_colab_link": true
    },
    "kernelspec": {
      "name": "python3",
      "display_name": "Python 3"
    }
  },
  "cells": [
    {
      "cell_type": "markdown",
      "metadata": {
        "id": "view-in-github",
        "colab_type": "text"
      },
      "source": [
        "<a href=\"https://colab.research.google.com/github/JasAfro77/algorithm/blob/master/HashingSearch.ipynb\" target=\"_parent\"><img src=\"https://colab.research.google.com/assets/colab-badge.svg\" alt=\"Open In Colab\"/></a>"
      ]
    },
    {
      "cell_type": "code",
      "metadata": {
        "id": "HZIbruhN30VI"
      },
      "source": [
        "#線性\n",
        "import random\n",
        "\n",
        "INDEXBOX = 10\n",
        "MAXNUM = 7\n",
        "\n",
        "def print_data(data,max_number):\n",
        "  print('\\t',end = '')\n",
        "  for i in range(max_number):\n",
        "    print('[%2d} '%data[i],end = '')\n",
        "  print()\n",
        "\n",
        "def create_table(num,index):\n",
        "  tmp = num%INDEXBOX\n",
        "  while True:\n",
        "    if index[tmp] == -1:\n",
        "      index[tmp] = num\n",
        "      break\n",
        "    else:\n",
        "      tmp = (tmp+1)%INDEXBOX\n",
        "\n",
        "\n",
        "#main\n",
        "\n",
        "index=[None]*INDEXBOX\n",
        "data=[None]*MAXNUM\n",
        "\n",
        "print('原始陣列值：')\n",
        "for i in range(MAXNUM):\n",
        "  data[i] = random.randint(1,20)\n",
        "for i in range(INDEXBOX):\n",
        "  index[i] = -1\n",
        "print_data(data,MAXNUM)\n",
        "\n",
        "print('雜湊表內容')\n",
        "for i in range(MAXNUM):\n",
        "  create_table(data[i],index)\n",
        "  print(' %2d =>' %data[i],end = '')\n",
        "  print_data(index,INDEXBOX)\n",
        "\n",
        "print('完成雜湊表')\n",
        "print_data(index,INDEXBOX)\n"
      ],
      "execution_count": null,
      "outputs": []
    },
    {
      "cell_type": "code",
      "metadata": {
        "id": "Lna8sfzh6cdj",
        "outputId": "2d0e1fbb-03de-4d45-e58a-4400cae8a399",
        "colab": {
          "base_uri": "https://localhost:8080/",
          "height": 495
        }
      },
      "source": [
        "#平方法\n",
        "import random\n",
        "\n",
        "INDEXBOX = 10\n",
        "MAXNUM = 7\n",
        "n = 1               #紀錄次數\n",
        "\n",
        "def print_data(data,max_number):\n",
        "  print('\\t',end = '')\n",
        "  for i in range(max_number):\n",
        "    print('[%2d} '%data[i],end = '')\n",
        "  print()\n",
        "\n",
        "def create_table(num,index,n):\n",
        "  tmp = num%INDEXBOX\n",
        "  a = tmp\n",
        "  while True:\n",
        "    if index[tmp] == -1:\n",
        "      index[tmp] = num\n",
        "      n = 1\n",
        "      break\n",
        "    else:\n",
        "      tmp = (a+n^2)%INDEXBOX #把n平方加上去\n",
        "      n+1\n",
        "\n",
        "\n",
        "#main\n",
        "\n",
        "index=[None]*INDEXBOX\n",
        "data=[None]*MAXNUM\n",
        "\n",
        "print('原始陣列值：')\n",
        "for i in range(MAXNUM):\n",
        "  data[i] = random.randint(1,20)\n",
        "for i in range(INDEXBOX):\n",
        "  index[i] = -1\n",
        "print_data(data,MAXNUM)\n",
        "\n",
        "print('雜湊表內容')\n",
        "for i in range(MAXNUM):\n",
        "  create_table(data[i],index,n)\n",
        "  print(' %2d =>' %data[i],end = '')\n",
        "  print_data(index,INDEXBOX)\n",
        "\n",
        "print('完成雜湊表')\n",
        "print_data(index,INDEXBOX)"
      ],
      "execution_count": 1,
      "outputs": [
        {
          "output_type": "stream",
          "text": [
            "原始陣列值：\n",
            "\t[ 4} [ 5} [18} [11} [11} [11} [19} \n",
            "雜湊表內容\n",
            "  4 =>\t[-1} [-1} [-1} [-1} [ 4} [-1} [-1} [-1} [-1} [-1} \n",
            "  5 =>\t[-1} [-1} [-1} [-1} [ 4} [ 5} [-1} [-1} [-1} [-1} \n",
            " 18 =>\t[-1} [-1} [-1} [-1} [ 4} [ 5} [-1} [-1} [18} [-1} \n",
            " 11 =>\t[-1} [11} [-1} [-1} [ 4} [ 5} [-1} [-1} [18} [-1} \n",
            " 11 =>\t[11} [11} [-1} [-1} [ 4} [ 5} [-1} [-1} [18} [-1} \n"
          ],
          "name": "stdout"
        },
        {
          "output_type": "error",
          "ename": "KeyboardInterrupt",
          "evalue": "ignored",
          "traceback": [
            "\u001b[0;31m---------------------------------------------------------------------------\u001b[0m",
            "\u001b[0;31mKeyboardInterrupt\u001b[0m                         Traceback (most recent call last)",
            "\u001b[0;32m<ipython-input-1-40a62de68803>\u001b[0m in \u001b[0;36m<module>\u001b[0;34m()\u001b[0m\n\u001b[1;32m     39\u001b[0m \u001b[0mprint\u001b[0m\u001b[0;34m(\u001b[0m\u001b[0;34m'雜湊表內容'\u001b[0m\u001b[0;34m)\u001b[0m\u001b[0;34m\u001b[0m\u001b[0;34m\u001b[0m\u001b[0m\n\u001b[1;32m     40\u001b[0m \u001b[0;32mfor\u001b[0m \u001b[0mi\u001b[0m \u001b[0;32min\u001b[0m \u001b[0mrange\u001b[0m\u001b[0;34m(\u001b[0m\u001b[0mMAXNUM\u001b[0m\u001b[0;34m)\u001b[0m\u001b[0;34m:\u001b[0m\u001b[0;34m\u001b[0m\u001b[0;34m\u001b[0m\u001b[0m\n\u001b[0;32m---> 41\u001b[0;31m   \u001b[0mcreate_table\u001b[0m\u001b[0;34m(\u001b[0m\u001b[0mdata\u001b[0m\u001b[0;34m[\u001b[0m\u001b[0mi\u001b[0m\u001b[0;34m]\u001b[0m\u001b[0;34m,\u001b[0m\u001b[0mindex\u001b[0m\u001b[0;34m,\u001b[0m\u001b[0mn\u001b[0m\u001b[0;34m)\u001b[0m\u001b[0;34m\u001b[0m\u001b[0;34m\u001b[0m\u001b[0m\n\u001b[0m\u001b[1;32m     42\u001b[0m   \u001b[0mprint\u001b[0m\u001b[0;34m(\u001b[0m\u001b[0;34m' %2d =>'\u001b[0m \u001b[0;34m%\u001b[0m\u001b[0mdata\u001b[0m\u001b[0;34m[\u001b[0m\u001b[0mi\u001b[0m\u001b[0;34m]\u001b[0m\u001b[0;34m,\u001b[0m\u001b[0mend\u001b[0m \u001b[0;34m=\u001b[0m \u001b[0;34m''\u001b[0m\u001b[0;34m)\u001b[0m\u001b[0;34m\u001b[0m\u001b[0;34m\u001b[0m\u001b[0m\n\u001b[1;32m     43\u001b[0m   \u001b[0mprint_data\u001b[0m\u001b[0;34m(\u001b[0m\u001b[0mindex\u001b[0m\u001b[0;34m,\u001b[0m\u001b[0mINDEXBOX\u001b[0m\u001b[0;34m)\u001b[0m\u001b[0;34m\u001b[0m\u001b[0;34m\u001b[0m\u001b[0m\n",
            "\u001b[0;32m<ipython-input-1-40a62de68803>\u001b[0m in \u001b[0;36mcreate_table\u001b[0;34m(num, index, n)\u001b[0m\n\u001b[1;32m     22\u001b[0m     \u001b[0;32melse\u001b[0m\u001b[0;34m:\u001b[0m\u001b[0;34m\u001b[0m\u001b[0;34m\u001b[0m\u001b[0m\n\u001b[1;32m     23\u001b[0m       \u001b[0mtmp\u001b[0m \u001b[0;34m=\u001b[0m \u001b[0;34m(\u001b[0m\u001b[0ma\u001b[0m\u001b[0;34m+\u001b[0m\u001b[0mn\u001b[0m\u001b[0;34m^\u001b[0m\u001b[0;36m2\u001b[0m\u001b[0;34m)\u001b[0m\u001b[0;34m%\u001b[0m\u001b[0mINDEXBOX\u001b[0m \u001b[0;31m#把n平方加上去\u001b[0m\u001b[0;34m\u001b[0m\u001b[0;34m\u001b[0m\u001b[0m\n\u001b[0;32m---> 24\u001b[0;31m       \u001b[0mn\u001b[0m\u001b[0;34m+\u001b[0m\u001b[0;36m1\u001b[0m\u001b[0;34m\u001b[0m\u001b[0;34m\u001b[0m\u001b[0m\n\u001b[0m\u001b[1;32m     25\u001b[0m \u001b[0;34m\u001b[0m\u001b[0m\n\u001b[1;32m     26\u001b[0m \u001b[0;34m\u001b[0m\u001b[0m\n",
            "\u001b[0;31mKeyboardInterrupt\u001b[0m: "
          ]
        }
      ]
    },
    {
      "cell_type": "code",
      "metadata": {
        "id": "7huhHf346oq6",
        "outputId": "b3af54ad-8118-465d-be47-fe340490c923",
        "colab": {
          "base_uri": "https://localhost:8080/",
          "height": 138
        }
      },
      "source": [
        "#再雜湊\n",
        "import random\n",
        "\n",
        "INDEXBOX = 10\n",
        "MAXNUM = 7\n",
        "n = 0               #紀錄次數\n",
        "\n",
        "def print_data(data,max_number):\n",
        "  print('\\t',end = '')\n",
        "  for i in range(max_number):\n",
        "    print('[%2d} '%data[i],end = '')\n",
        "  print()\n",
        "\n",
        "def create_table(num,index,n):\n",
        "  tmp = num%INDEXBOX\n",
        "  while True:\n",
        "    if index[tmp] == -1:\n",
        "      index[tmp] = num\n",
        "      n = 1\n",
        "      break\n",
        "    else:\n",
        "      tmp = (tmp+n*2)%INDEXBOX #把n平方加上去\n",
        "      n+1\n",
        "\n",
        "\n",
        "#main\n",
        "\n",
        "index=[None]*INDEXBOX\n",
        "data=[None]*MAXNUM\n",
        "\n",
        "print('原始陣列值：')\n",
        "for i in range(MAXNUM):\n",
        "  data[i] = random.randint(1,20)\n",
        "for i in range(INDEXBOX):\n",
        "  index[i] = -1\n",
        "print_data(data,MAXNUM)\n",
        "\n",
        "print('雜湊表內容')\n",
        "for i in range(MAXNUM):\n",
        "  create_table(data[i],index,n)\n",
        "  print(' %2d =>' %data[i],end = '')\n",
        "  print_data(index,INDEXBOX)\n",
        "\n",
        "print('完成雜湊表')\n",
        "print_data(index,INDEXBOX)"
      ],
      "execution_count": null,
      "outputs": [
        {
          "output_type": "stream",
          "text": [
            "原始陣列值：\n",
            "\t[14} [ 8} [ 7} [ 3} [ 4} [12} [20} \n",
            "雜湊表內容\n",
            " 14 =>\t[-1} [-1} [-1} [-1} [14} [-1} [-1} [-1} [-1} [-1} \n",
            "  8 =>\t[-1} [-1} [-1} [-1} [14} [-1} [-1} [-1} [ 8} [-1} \n",
            "  7 =>\t[-1} [-1} [-1} [-1} [14} [-1} [-1} [ 7} [ 8} [-1} \n",
            "  3 =>\t[-1} [-1} [-1} [ 3} [14} [-1} [-1} [ 7} [ 8} [-1} \n"
          ],
          "name": "stdout"
        }
      ]
    }
  ]
}