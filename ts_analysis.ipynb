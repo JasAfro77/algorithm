{
  "nbformat": 4,
  "nbformat_minor": 0,
  "metadata": {
    "colab": {
      "name": "Untitled0.ipynb",
      "provenance": [],
      "collapsed_sections": [],
      "authorship_tag": "ABX9TyP5VbxD0HAnBS2z+Zjb+m4V",
      "include_colab_link": true
    },
    "kernelspec": {
      "name": "python3",
      "display_name": "Python 3"
    }
  },
  "cells": [
    {
      "cell_type": "markdown",
      "metadata": {
        "id": "view-in-github",
        "colab_type": "text"
      },
      "source": [
        "<a href=\"https://colab.research.google.com/github/JasAfro77/algorithm/blob/master/ts_analysis.ipynb\" target=\"_parent\"><img src=\"https://colab.research.google.com/assets/colab-badge.svg\" alt=\"Open In Colab\"/></a>"
      ]
    },
    {
      "cell_type": "code",
      "metadata": {
        "id": "B5PwZS9L3SMW",
        "outputId": "781c5f05-32a6-453e-86d1-59bc82816ab1",
        "colab": {
          "base_uri": "https://localhost:8080/"
        }
      },
      "source": [
        "#如何判斷某年是不是閏年?\n",
        "#方法1:\n",
        "year = input(\"輸入年份\")\n",
        "print(\"\\n\")\n",
        "try: #try..except指定物件\n",
        "  val = int(year) #將輸入的字串轉為數值\n",
        "  if int(year)%4 != 0: #判斷年份除以4的餘數是否為零\n",
        "    print(\"此年不是閏年\")\n",
        "  else:\n",
        "    print(\"此年為閏年\")  \n",
        "except ValueError: #丟出例外事件\n",
        "  print(\"input is not a number\")\n",
        "\n"
      ],
      "execution_count": null,
      "outputs": [
        {
          "output_type": "stream",
          "text": [
            "輸入年份2020\n",
            "\n",
            "\n",
            "此年為閏年\n"
          ],
          "name": "stdout"
        }
      ]
    },
    {
      "cell_type": "code",
      "metadata": {
        "id": "G6JL-vS6_Ls5",
        "outputId": "9e2981ba-dd28-4bbd-b00a-376abf4e953c",
        "colab": {
          "base_uri": "https://localhost:8080/"
        }
      },
      "source": [
        "#如何判斷某年是不是閏年?\n",
        "#方法2:\n",
        "year = []\n",
        "test = []\n",
        "\n",
        "#重複查詢\n",
        "def search():\n",
        "  while True:\n",
        "    try:\n",
        "      x = input(\"請輸入2000~2050\")\n",
        "      y = int(x)\n",
        "      if y < 2000 | y > 2050 :#判斷輸入直是否在範圍內\n",
        "        print(\"不在範圍內\")\n",
        "      else: \n",
        "        if test[y - 2000] == 1: #在範圍內則顯示是否閏年\n",
        "          print(\"這是閏年\")\n",
        "        else:\n",
        "          print(\"這不是閏年\")\n",
        "    except ValueError: #丟出錯誤事件\n",
        "      print(\"這不是數字\")\n",
        "      break\n",
        "\n",
        "for i in range (0,51): #存值\n",
        "      year.append(2000+i)\n",
        "      if year[i]%4 == 0: #判斷是否閏年\n",
        "        test.append(1)\n",
        "      else:\n",
        "        test.append(0)\n",
        "search()\n"
      ],
      "execution_count": null,
      "outputs": [
        {
          "output_type": "stream",
          "text": [
            "請輸入2000~20502040\n",
            "這是閏年\n",
            "請輸入2000~20502045\n",
            "這不是閏年\n",
            "請輸入2000~20502030\n",
            "這不是閏年\n"
          ],
          "name": "stdout"
        }
      ]
    }
  ]
}