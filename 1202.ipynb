{
  "nbformat": 4,
  "nbformat_minor": 0,
  "metadata": {
    "colab": {
      "name": "1202.ipynb",
      "provenance": [],
      "authorship_tag": "ABX9TyMGb8bSnKaH2ZXNwXTADq6a",
      "include_colab_link": true
    },
    "kernelspec": {
      "name": "python3",
      "display_name": "Python 3"
    }
  },
  "cells": [
    {
      "cell_type": "markdown",
      "metadata": {
        "id": "view-in-github",
        "colab_type": "text"
      },
      "source": [
        "<a href=\"https://colab.research.google.com/github/JasAfro77/algorithm/blob/master/1202.ipynb\" target=\"_parent\"><img src=\"https://colab.research.google.com/assets/colab-badge.svg\" alt=\"Open In Colab\"/></a>"
      ]
    },
    {
      "cell_type": "code",
      "metadata": {
        "colab": {
          "base_uri": "https://localhost:8080/"
        },
        "id": "1H_4WjA7JKK1",
        "outputId": "a3125980-31fd-432f-b522-8e4fc0f923a0"
      },
      "source": [
        "t = [25, 20, 5, 1]\n",
        "n = int(input(\"輸入金額\"))\n",
        "def change(t,n):\n",
        "  m = [0 for _ in range(len(t))]  \n",
        "  for i,money in enumerate(t):\n",
        "   m[i] = n // money\n",
        "   n = n % money\n",
        "   print(m,n)\n",
        "\n",
        "change(t,n)\n"
      ],
      "execution_count": 24,
      "outputs": [
        {
          "output_type": "stream",
          "text": [
            "輸入金額41\n",
            "[1, 0, 0, 0] 16\n",
            "[1, 0, 0, 0] 16\n",
            "[1, 0, 3, 0] 1\n",
            "[1, 0, 3, 1] 0\n"
          ],
          "name": "stdout"
        }
      ]
    },
    {
      "cell_type": "code",
      "metadata": {
        "colab": {
          "base_uri": "https://localhost:8080/"
        },
        "id": "K9bfcfwybjd6",
        "outputId": "73d697b9-2f35-4a46-dfe6-6e9acaffff67"
      },
      "source": [
        "def coin_change(coins,change,dp,coins_used):\n",
        "\t\n",
        "\tfor i in range(1,change+1):\n",
        "\t\t#依次求解，dp[1]~dp[change]\n",
        "\t\tfor j in range(len(coins)):\n",
        "\t\t\tif coins[j]<=i:\n",
        "\t\t\t\t\n",
        "\t\t\t\tif dp[i-coins[j]]+1<dp[i]:\n",
        "\t\t\t\t\t#dp[i]=min(dp[i],dp[i-coins[j]]+1)\n",
        "\t\t\t\t\tdp[i]=dp[i-coins[j]]+1\n",
        "\t\t\t\t\t\n",
        "\t\t\t\t\tnew_coin=coins[j]\n",
        "\t\tcoins_used[i]=new_coin\n",
        " \n",
        "\tif dp[change]>change:\n",
        "\t\t\n",
        "\t\treturn -1\n",
        "\telse:\n",
        "\t\treturn dp[change]\n",
        "def used_coins(change,used_coins):\n",
        "\t\n",
        "\tre=[]\n",
        "\twhile change:\n",
        "\t\t#dp[i]=dp[i-coins[j]]+1    used_coins[change]=coins[j]\n",
        "\t\ttmp=used_coins[change]\n",
        "\t\tre.append(tmp)\n",
        "\t\tchange-=tmp\n",
        "\treturn re\n",
        " \n",
        "if __name__=='__main__':\n",
        "\t#初始化\n",
        "\tcoins=[1,5,20,25]\n",
        "\tchange=int(input(\"輸入金額\"))\n",
        "\tdp=[change+1]*(change+1)\n",
        "\tdp[0]=0\n",
        "\tcoins_used=[0]*(change+1)\n",
        " \n",
        "\tre=coin_change(coins,change,dp,coins_used)\n",
        "\tre_coins=used_coins(change,coins_used)\n",
        "\tprint(\"找零{0}元需要{1}個錢幣,分别是{2}\".format(change,re,re_coins))"
      ],
      "execution_count": 29,
      "outputs": [
        {
          "output_type": "stream",
          "text": [
            "輸入金額41\n",
            "找零41元需要3個錢幣,分别是[1, 20, 20]\n"
          ],
          "name": "stdout"
        }
      ]
    },
    {
      "cell_type": "code",
      "metadata": {
        "colab": {
          "base_uri": "https://localhost:8080/"
        },
        "id": "uiIRStGph2JI",
        "outputId": "2c268fd4-307a-44be-9e46-c3663a69abbf"
      },
      "source": [
        "t = [5,1,4,3,2,]\n",
        "v = [17000,35000,60000,90000,20000]\n",
        "n = 10\n",
        "\n",
        "def Selection_Sort(datas, data2):\n",
        "  for i in range(len(datas)-1):\n",
        "    min = i\n",
        "    for j in range(i+1, len(datas)):\n",
        "      if datas[j] > datas[min]:\n",
        "        min = j\n",
        "    datas[i], datas[min] = datas[min], datas[i]\n",
        "    data2[i], data2[min] = data2[min], data2[i]\n",
        "  print(datas, data2)\n",
        "\n",
        "def change(t,n):\n",
        "  m = [0 for _ in range(len(t))]  \n",
        "  for i,kg in enumerate(t):\n",
        "   m[i] = 1\n",
        "   if n - kg < 0:\n",
        "     n = n\n",
        "     m[i] = 0\n",
        "   else:\n",
        "     n = n -kg\n",
        "   print(m,n)\n",
        "\n",
        "Selection_Sort(v,t)\n",
        "change(t,n)\n"
      ],
      "execution_count": 32,
      "outputs": [
        {
          "output_type": "stream",
          "text": [
            "[90000, 60000, 35000, 20000, 17000] [3, 4, 1, 2, 5]\n",
            "[1, 0, 0, 0, 0] 7\n",
            "[1, 1, 0, 0, 0] 3\n",
            "[1, 1, 1, 0, 0] 2\n",
            "[1, 1, 1, 1, 0] 0\n",
            "[1, 1, 1, 1, 0] 0\n"
          ],
          "name": "stdout"
        }
      ]
    },
    {
      "cell_type": "code",
      "metadata": {
        "colab": {
          "base_uri": "https://localhost:8080/"
        },
        "id": "nDTv43YUlRyK",
        "outputId": "52b84cde-5255-4789-d491-66ef313bca6a"
      },
      "source": [
        "import numpy as np\n",
        "def pack():\n",
        "    C=10\n",
        "    num=5\n",
        "    v = [5,1,4,3,2]\n",
        "    price=[17000,35000,60000,9000,20000]\n",
        "    sum=np.zeros((num+1,C+1)) \n",
        "    for jew in range(num+1): \n",
        "        for c in range(C+1): \n",
        "            if(jew==0): \n",
        "                sum[jew][c]=0\n",
        "            else:\n",
        "                sum[jew][c]=sum[jew-1][c]\n",
        "            if(jew>0 and c>=v[jew-1]): \n",
        "                \n",
        "                sum[jew][c]=max(sum[jew-1][c],sum[jew-1][c-v[jew-1]]+price[jew-1])\n",
        "    print(\"the max price:\",sum[num][C])\n",
        " \n",
        "    \n",
        "    pack=np.zeros((num))\n",
        "    volume = C\n",
        "    for jew in range(num,-1,-1): \n",
        "        if(sum[jew][volume]>sum[jew-1][volume]): \n",
        "            pack[jew-1]=1\n",
        "            volume=volume-v[jew-1]\n",
        " \n",
        "    print(\"背包情況\",pack)\n",
        " \n",
        "if __name__==\"__main__\":\n",
        "    pack()"
      ],
      "execution_count": 33,
      "outputs": [
        {
          "output_type": "stream",
          "text": [
            "the max price: 124000.0\n",
            "背包情況 [0. 1. 1. 1. 1.]\n"
          ],
          "name": "stdout"
        }
      ]
    }
  ]
}