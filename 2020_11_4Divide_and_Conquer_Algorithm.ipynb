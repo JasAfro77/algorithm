{
  "nbformat": 4,
  "nbformat_minor": 0,
  "metadata": {
    "colab": {
      "name": "2020/11/4Divide-and-Conquer Algorithm.ipynb",
      "provenance": [],
      "authorship_tag": "ABX9TyOi3UsrlNawOFS7QcEkyedE",
      "include_colab_link": true
    },
    "kernelspec": {
      "name": "python3",
      "display_name": "Python 3"
    }
  },
  "cells": [
    {
      "cell_type": "markdown",
      "metadata": {
        "id": "view-in-github",
        "colab_type": "text"
      },
      "source": [
        "<a href=\"https://colab.research.google.com/github/JasAfro77/algorithm/blob/master/2020_11_4Divide_and_Conquer_Algorithm.ipynb\" target=\"_parent\"><img src=\"https://colab.research.google.com/assets/colab-badge.svg\" alt=\"Open In Colab\"/></a>"
      ]
    },
    {
      "cell_type": "code",
      "metadata": {
        "id": "WzLTsVgGJvzO",
        "outputId": "c040a632-ae2b-4b72-fb68-e550465bd508",
        "colab": {
          "base_uri": "https://localhost:8080/"
        }
      },
      "source": [
        "from random import randint\n",
        "\n",
        "#規定範圍並產生密碼\n",
        "lowest = 1\n",
        "highest = 100\n",
        "answer = randint(lowest, highest)\n",
        "\n",
        "#重複猜數字，直到猜對為止\n",
        "while True:\n",
        "    guess = input('密碼介於 ' + str(lowest) + '-' + str(highest) + ':\\n>>')\n",
        "    \n",
        "    #檢查輸入的內容是否為數字\n",
        "    try:\n",
        "        guess = int(guess)  #把字串轉換成整數\n",
        "    except ValueError:  #轉換失敗便要求重新輸入數字\n",
        "        print('格式錯誤，請輸入數字\\n')\n",
        "        continue\n",
        "    \n",
        "    #檢查輸入的數字是否介於規定範圍內\n",
        "    if guess <= lowest or guess >= highest:\n",
        "        print('請輸入 ' + str(lowest) + '-' + str(highest) + ' 之間的整數\\n')\n",
        "        continue\n",
        "    \n",
        "    #判斷有沒有猜中密碼\n",
        "    if guess == answer:\n",
        "        print('答對了！')\n",
        "        break   #猜對才跳脫迴圈\n",
        "    elif guess < answer:\n",
        "        lowest = guess\n",
        "    else:\n",
        "        highest = guess"
      ],
      "execution_count": null,
      "outputs": [
        {
          "output_type": "stream",
          "text": [
            "密碼介於 1-100:\n",
            ">>20\n",
            "密碼介於 20-100:\n",
            ">>50\n",
            "密碼介於 50-100:\n",
            ">>90\n",
            "密碼介於 50-90:\n",
            ">>70\n",
            "密碼介於 50-70:\n",
            ">>60\n",
            "密碼介於 50-60:\n",
            ">>65\n",
            "請輸入 50-60 之間的整數\n",
            "\n",
            "密碼介於 50-60:\n",
            ">>55\n",
            "密碼介於 55-60:\n",
            ">>58\n",
            "密碼介於 55-58:\n",
            ">>57\n",
            "答對了！\n"
          ],
          "name": "stdout"
        }
      ]
    },
    {
      "cell_type": "code",
      "metadata": {
        "id": "Ix_WmLoUES2P",
        "outputId": "0415973e-9c36-4ac7-f0a2-e3537567fd0e",
        "colab": {
          "base_uri": "https://localhost:8080/"
        }
      },
      "source": [
        "x = 0\n",
        "def hanoi(n, A, B, C, ):\n",
        "    global x\n",
        "    if n == 1:\n",
        "        x += 1\n",
        "        print(str(n) + \"號圈：\" + A + \"→\" + C + \" 執行次數: \" + str(x))\n",
        "    else:\n",
        "        hanoi(n-1, A, C, B)\n",
        "        x += 1\n",
        "        print(str(n) + \"號圈：\" + A + \"→\" + C + \" 執行次數: \" + str(x))\n",
        "        hanoi(n-1, B, A, C)\n",
        "\n",
        "\n",
        "ringNum = int(input(\"請輸入圈圈數：\"))\n",
        "hanoi(ringNum, \"A\", \"B\", \"C\")"
      ],
      "execution_count": 4,
      "outputs": [
        {
          "output_type": "stream",
          "text": [
            "請輸入圈圈數：5\n",
            "1號圈：A→C 執行次數: 1\n",
            "2號圈：A→B 執行次數: 2\n",
            "1號圈：C→B 執行次數: 3\n",
            "3號圈：A→C 執行次數: 4\n",
            "1號圈：B→A 執行次數: 5\n",
            "2號圈：B→C 執行次數: 6\n",
            "1號圈：A→C 執行次數: 7\n",
            "4號圈：A→B 執行次數: 8\n",
            "1號圈：C→B 執行次數: 9\n",
            "2號圈：C→A 執行次數: 10\n",
            "1號圈：B→A 執行次數: 11\n",
            "3號圈：C→B 執行次數: 12\n",
            "1號圈：A→C 執行次數: 13\n",
            "2號圈：A→B 執行次數: 14\n",
            "1號圈：C→B 執行次數: 15\n",
            "5號圈：A→C 執行次數: 16\n",
            "1號圈：B→A 執行次數: 17\n",
            "2號圈：B→C 執行次數: 18\n",
            "1號圈：A→C 執行次數: 19\n",
            "3號圈：B→A 執行次數: 20\n",
            "1號圈：C→B 執行次數: 21\n",
            "2號圈：C→A 執行次數: 22\n",
            "1號圈：B→A 執行次數: 23\n",
            "4號圈：B→C 執行次數: 24\n",
            "1號圈：A→C 執行次數: 25\n",
            "2號圈：A→B 執行次數: 26\n",
            "1號圈：C→B 執行次數: 27\n",
            "3號圈：A→C 執行次數: 28\n",
            "1號圈：B→A 執行次數: 29\n",
            "2號圈：B→C 執行次數: 30\n",
            "1號圈：A→C 執行次數: 31\n"
          ],
          "name": "stdout"
        }
      ]
    }
  ]
}