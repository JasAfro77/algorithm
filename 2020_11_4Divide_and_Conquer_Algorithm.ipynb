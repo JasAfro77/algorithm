{
  "nbformat": 4,
  "nbformat_minor": 0,
  "metadata": {
    "colab": {
      "name": "2020/11/4Divide-and-Conquer Algorithm.ipynb",
      "provenance": [],
      "authorship_tag": "ABX9TyOA6G/wwwpjXCoHLFsZVWWX",
      "include_colab_link": true
    },
    "kernelspec": {
      "name": "python3",
      "display_name": "Python 3"
    }
  },
  "cells": [
    {
      "cell_type": "markdown",
      "metadata": {
        "id": "view-in-github",
        "colab_type": "text"
      },
      "source": [
        "<a href=\"https://colab.research.google.com/github/JasAfro77/algorithm/blob/master/2020_11_4Divide_and_Conquer_Algorithm.ipynb\" target=\"_parent\"><img src=\"https://colab.research.google.com/assets/colab-badge.svg\" alt=\"Open In Colab\"/></a>"
      ]
    },
    {
      "cell_type": "code",
      "metadata": {
        "id": "WzLTsVgGJvzO",
        "outputId": "c040a632-ae2b-4b72-fb68-e550465bd508",
        "colab": {
          "base_uri": "https://localhost:8080/"
        }
      },
      "source": [
        "from random import randint\n",
        "\n",
        "#規定範圍並產生密碼\n",
        "lowest = 1\n",
        "highest = 100\n",
        "answer = randint(lowest, highest)\n",
        "\n",
        "#重複猜數字，直到猜對為止\n",
        "while True:\n",
        "    guess = input('密碼介於 ' + str(lowest) + '-' + str(highest) + ':\\n>>')\n",
        "    \n",
        "    #檢查輸入的內容是否為數字\n",
        "    try:\n",
        "        guess = int(guess)  #把字串轉換成整數\n",
        "    except ValueError:  #轉換失敗便要求重新輸入數字\n",
        "        print('格式錯誤，請輸入數字\\n')\n",
        "        continue\n",
        "    \n",
        "    #檢查輸入的數字是否介於規定範圍內\n",
        "    if guess <= lowest or guess >= highest:\n",
        "        print('請輸入 ' + str(lowest) + '-' + str(highest) + ' 之間的整數\\n')\n",
        "        continue\n",
        "    \n",
        "    #判斷有沒有猜中密碼\n",
        "    if guess == answer:\n",
        "        print('答對了！')\n",
        "        break   #猜對才跳脫迴圈\n",
        "    elif guess < answer:\n",
        "        lowest = guess\n",
        "    else:\n",
        "        highest = guess"
      ],
      "execution_count": 5,
      "outputs": [
        {
          "output_type": "stream",
          "text": [
            "密碼介於 1-100:\n",
            ">>20\n",
            "密碼介於 20-100:\n",
            ">>50\n",
            "密碼介於 50-100:\n",
            ">>90\n",
            "密碼介於 50-90:\n",
            ">>70\n",
            "密碼介於 50-70:\n",
            ">>60\n",
            "密碼介於 50-60:\n",
            ">>65\n",
            "請輸入 50-60 之間的整數\n",
            "\n",
            "密碼介於 50-60:\n",
            ">>55\n",
            "密碼介於 55-60:\n",
            ">>58\n",
            "密碼介於 55-58:\n",
            ">>57\n",
            "答對了！\n"
          ],
          "name": "stdout"
        }
      ]
    },
    {
      "cell_type": "code",
      "metadata": {
        "id": "Ix_WmLoUES2P",
        "outputId": "d9d30a7b-0280-4de5-8019-33634584ae9f",
        "colab": {
          "base_uri": "https://localhost:8080/"
        }
      },
      "source": [
        "def hanoi(n, A, B, C, ):\n",
        "    if n == 1:\n",
        "        print(str(n) + \"號圈：\" + A + \"→\" + C)\n",
        "    else:\n",
        "        hanoi(n-1, A, C, B)\n",
        "        print(str(n) + \"號圈：\" + A + \"→\" + C)\n",
        "        hanoi(n-1, B, A, C)\n",
        "\n",
        "\n",
        "ringNum = int(input(\"請輸入圈圈數：\"))\n",
        "hanoi(ringNum, \"A\", \"B\", \"C\")"
      ],
      "execution_count": 14,
      "outputs": [
        {
          "output_type": "stream",
          "text": [
            "請輸入圈圈數：5\n",
            "1號圈：A→C\n",
            "2號圈：A→B\n",
            "1號圈：C→B\n",
            "3號圈：A→C\n",
            "1號圈：B→A\n",
            "2號圈：B→C\n",
            "1號圈：A→C\n",
            "4號圈：A→B\n",
            "1號圈：C→B\n",
            "2號圈：C→A\n",
            "1號圈：B→A\n",
            "3號圈：C→B\n",
            "1號圈：A→C\n",
            "2號圈：A→B\n",
            "1號圈：C→B\n",
            "5號圈：A→C\n",
            "1號圈：B→A\n",
            "2號圈：B→C\n",
            "1號圈：A→C\n",
            "3號圈：B→A\n",
            "1號圈：C→B\n",
            "2號圈：C→A\n",
            "1號圈：B→A\n",
            "4號圈：B→C\n",
            "1號圈：A→C\n",
            "2號圈：A→B\n",
            "1號圈：C→B\n",
            "3號圈：A→C\n",
            "1號圈：B→A\n",
            "2號圈：B→C\n",
            "1號圈：A→C\n"
          ],
          "name": "stdout"
        }
      ]
    }
  ]
}