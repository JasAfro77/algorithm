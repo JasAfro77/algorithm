{
  "nbformat": 4,
  "nbformat_minor": 0,
  "metadata": {
    "colab": {
      "name": "Untitled1.ipynb",
      "provenance": [],
      "authorship_tag": "ABX9TyN+bCGjtl2ovoTYDpedKKf6",
      "include_colab_link": true
    },
    "kernelspec": {
      "name": "python3",
      "display_name": "Python 3"
    }
  },
  "cells": [
    {
      "cell_type": "markdown",
      "metadata": {
        "id": "view-in-github",
        "colab_type": "text"
      },
      "source": [
        "<a href=\"https://colab.research.google.com/github/JasAfro77/algorithm/blob/master/sequential_search.ipynb\" target=\"_parent\"><img src=\"https://colab.research.google.com/assets/colab-badge.svg\" alt=\"Open In Colab\"/></a>"
      ]
    },
    {
      "cell_type": "code",
      "metadata": {
        "id": "vm_Kp513xOWr",
        "outputId": "87666fe1-58e1-4636-dd77-77600fb6812f",
        "colab": {
          "base_uri": "https://localhost:8080/",
          "height": 34
        }
      },
      "source": [
        "data = [20,31,50,17,16,36,19,8]\n",
        "\n",
        "\n",
        "def sequential_search(data,key):\n",
        "  \n",
        "\n",
        "  for i in range(len(data)):\n",
        "    if  data[i] == key :\n",
        "      print(\"找到了\")\n",
        "      \n",
        "      break\n",
        "    elif i+1 == len(data):\n",
        "      print(\"找不到\")     \n",
        "      break\n",
        "\n",
        "sequential_search(data,19)"
      ],
      "execution_count": 45,
      "outputs": [
        {
          "output_type": "stream",
          "text": [
            "找到了\n"
          ],
          "name": "stdout"
        }
      ]
    }
  ]
}