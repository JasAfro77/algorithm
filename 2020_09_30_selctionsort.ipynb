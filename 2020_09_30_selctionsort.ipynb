{
  "nbformat": 4,
  "nbformat_minor": 0,
  "metadata": {
    "colab": {
      "name": "2020/09/30_selctionsort.ipynb",
      "provenance": [],
      "collapsed_sections": [],
      "authorship_tag": "ABX9TyMRLcBelDKDpYq1XrQN4ECO",
      "include_colab_link": true
    },
    "kernelspec": {
      "name": "python3",
      "display_name": "Python 3"
    }
  },
  "cells": [
    {
      "cell_type": "markdown",
      "metadata": {
        "id": "view-in-github",
        "colab_type": "text"
      },
      "source": [
        "<a href=\"https://colab.research.google.com/github/JasAfro77/algorithm/blob/master/2020_09_30_selctionsort.ipynb\" target=\"_parent\"><img src=\"https://colab.research.google.com/assets/colab-badge.svg\" alt=\"Open In Colab\"/></a>"
      ]
    },
    {
      "cell_type": "code",
      "metadata": {
        "id": "w3XKtGgbBvrK"
      },
      "source": [
        "def Selction_Sort(datas):\n",
        "    for i in range(len(datas)-1): #n\n",
        "        min = i #n-1\n",
        "        for j in range(i+1, len(datas)):   #n(n+1)/2\n",
        "            if datas[j] < datas[min]: #n(n+1)/2\n",
        "                min = j #n()  #n(n+1)/2\n",
        "\n",
        "        datas[i], datas[min] = datas[min], datas[i] #n-1\n",
        "\n",
        "        print(datas)\n",
        "        print('---'*10)\n",
        "    return datas # Total = n+2(n-1)+3n(n+1)/2 = 3n^2+6n+5 = O(n^2)\n",
        "\n",
        "\n",
        "if __name__ == '__main__':\n",
        "    import random\n",
        "    a = list(range(16))\n",
        "    random.shuffle(a)\n",
        "    print(a)\n",
        "    a = Selction_Sort(a)\n",
        "    print(a)"
      ],
      "execution_count": null,
      "outputs": []
    }
  ]
}