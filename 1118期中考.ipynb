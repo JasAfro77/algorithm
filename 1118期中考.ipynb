{
  "nbformat": 4,
  "nbformat_minor": 0,
  "metadata": {
    "colab": {
      "name": "1118期中考.ipynb",
      "provenance": [],
      "authorship_tag": "ABX9TyNoGzPoOk7/KfZLP0ud7TJe",
      "include_colab_link": true
    },
    "kernelspec": {
      "name": "python3",
      "display_name": "Python 3"
    }
  },
  "cells": [
    {
      "cell_type": "markdown",
      "metadata": {
        "id": "view-in-github",
        "colab_type": "text"
      },
      "source": [
        "<a href=\"https://colab.research.google.com/github/JasAfro77/algorithm/blob/master/1118%E6%9C%9F%E4%B8%AD%E8%80%83.ipynb\" target=\"_parent\"><img src=\"https://colab.research.google.com/assets/colab-badge.svg\" alt=\"Open In Colab\"/></a>"
      ]
    },
    {
      "cell_type": "code",
      "metadata": {
        "colab": {
          "base_uri": "https://localhost:8080/"
        },
        "id": "w8-0TuCSPEQq",
        "outputId": "46715133-1967-4cce-eebd-491e9b2c836a"
      },
      "source": [
        "#選擇排序法\n",
        "\n",
        "def Selction_Sort(datas):\n",
        "    for i in range(len(datas)-1):\n",
        "        min = i # 第一次選從第一個數開始,第二次從第二個數開始\n",
        "        for j in range(i+1, len(datas)):    # 用記錄的max數與其他的比較\n",
        "            if datas[j] > datas[min]:\n",
        "                min = j   #更新最小值的下標\n",
        "\n",
        "        datas[i], datas[min] = datas[min], datas[i] #交換\n",
        "\n",
        "        print(\"第\",i+1,\"次排序:\",datas) # 列印執行結果\n",
        "        print('---'*10)\n",
        "    return datas\n",
        "\n",
        "\n",
        "if __name__ == '__main__':\n",
        "    import random\n",
        "    a = [random.randint(0,99) for _ in range(8)]  #0~99任意找8個數字\n",
        "    random.shuffle(a) #隨機排列位置\n",
        "    print(\"原始資料為:\", a)\n",
        "    a = Selction_Sort(a)\n",
        "    print(a)\n"
      ],
      "execution_count": null,
      "outputs": [
        {
          "output_type": "stream",
          "text": [
            "原始資料為: [29, 35, 0, 21, 32, 35, 62, 58]\n",
            "第 1 次排序: [62, 35, 0, 21, 32, 35, 29, 58]\n",
            "------------------------------\n",
            "第 2 次排序: [62, 58, 0, 21, 32, 35, 29, 35]\n",
            "------------------------------\n",
            "第 3 次排序: [62, 58, 35, 21, 32, 0, 29, 35]\n",
            "------------------------------\n",
            "第 4 次排序: [62, 58, 35, 35, 32, 0, 29, 21]\n",
            "------------------------------\n",
            "第 5 次排序: [62, 58, 35, 35, 32, 0, 29, 21]\n",
            "------------------------------\n",
            "第 6 次排序: [62, 58, 35, 35, 32, 29, 0, 21]\n",
            "------------------------------\n",
            "第 7 次排序: [62, 58, 35, 35, 32, 29, 21, 0]\n",
            "------------------------------\n",
            "[62, 58, 35, 35, 32, 29, 21, 0]\n"
          ],
          "name": "stdout"
        }
      ]
    },
    {
      "cell_type": "code",
      "metadata": {
        "colab": {
          "base_uri": "https://localhost:8080/"
        },
        "id": "Kj1YrVdIVHkU",
        "outputId": "702ee95b-ce5a-40ec-dfaf-9976359d05b2"
      },
      "source": [
        "#插入排序法\n",
        "def Insertion_Sort(datas):\n",
        "    for i in range(1, len(datas)):  #從第一個值開始取\n",
        "        for j in range(i):\n",
        "            current = datas[i]\n",
        "            if current < datas[j]:  # 先將要比較的值暫存起來\n",
        "                for k in range(i,j):\n",
        "                  print(datas)\n",
        "    return datas\n",
        "\n",
        "\n",
        "def insertionSort(arr):\n",
        "    for i in range(len(arr)):\n",
        "        preIndex = i-1\n",
        "        current = arr[i]\n",
        "        while preIndex >= 0 and arr[preIndex] > current:  \n",
        "            arr[preIndex+1] = arr[preIndex]\n",
        "            preIndex-=1   # 將暫存值逐一和前面的值做比較，如果小於前面的值則將前面的直往後放\n",
        "        arr[preIndex+1] = current  # 比較完後，將暫存值插入到適合的位置\n",
        "        print(\"第\",i,\"次排序:\",arr) # 列印執行結果\n",
        "    return arr\n",
        "\n",
        "if __name__ == '__main__':\n",
        "    import random\n",
        "    a = [random.randint(0,99) for _ in range(8)]  #0~99任意找8個數字\n",
        "    random.shuffle(a) #隨機排列位置\n",
        "    b = a.copy()\n",
        "    print(\"原始資料為:\",a)\n",
        "\n",
        "    arr = insertionSort(a)\n",
        "    print('---'*10)\n",
        "    Insertion_Sort(b)"
      ],
      "execution_count": 35,
      "outputs": [
        {
          "output_type": "stream",
          "text": [
            "原始資料為: [88, 14, 20, 64, 83, 36, 80, 46]\n",
            "第 0 次排序: [88, 14, 20, 64, 83, 36, 80, 46]\n",
            "第 1 次排序: [14, 88, 20, 64, 83, 36, 80, 46]\n",
            "第 2 次排序: [14, 20, 88, 64, 83, 36, 80, 46]\n",
            "第 3 次排序: [14, 20, 64, 88, 83, 36, 80, 46]\n",
            "第 4 次排序: [14, 20, 64, 83, 88, 36, 80, 46]\n",
            "第 5 次排序: [14, 20, 36, 64, 83, 88, 80, 46]\n",
            "第 6 次排序: [14, 20, 36, 64, 80, 83, 88, 46]\n",
            "第 7 次排序: [14, 20, 36, 46, 64, 80, 83, 88]\n",
            "------------------------------\n"
          ],
          "name": "stdout"
        }
      ]
    }
  ]
}