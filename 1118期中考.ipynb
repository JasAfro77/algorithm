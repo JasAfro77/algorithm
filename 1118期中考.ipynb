{
  "nbformat": 4,
  "nbformat_minor": 0,
  "metadata": {
    "colab": {
      "name": "Untitled1.ipynb",
      "provenance": [],
      "authorship_tag": "ABX9TyOqcvta0j7d9z/qp5I6/wF+",
      "include_colab_link": true
    },
    "kernelspec": {
      "name": "python3",
      "display_name": "Python 3"
    }
  },
  "cells": [
    {
      "cell_type": "markdown",
      "metadata": {
        "id": "view-in-github",
        "colab_type": "text"
      },
      "source": [
        "<a href=\"https://colab.research.google.com/github/JasAfro77/algorithm/blob/master/1118%E6%9C%9F%E4%B8%AD%E8%80%83.ipynb\" target=\"_parent\"><img src=\"https://colab.research.google.com/assets/colab-badge.svg\" alt=\"Open In Colab\"/></a>"
      ]
    },
    {
      "cell_type": "code",
      "metadata": {
        "colab": {
          "base_uri": "https://localhost:8080/"
        },
        "id": "w8-0TuCSPEQq",
        "outputId": "46715133-1967-4cce-eebd-491e9b2c836a"
      },
      "source": [
        "#選擇排序法\n",
        "\n",
        "def Selction_Sort(datas):\n",
        "    for i in range(len(datas)-1):\n",
        "        min = i # 第一次選從第一個數開始,第二次從第二個數開始\n",
        "        for j in range(i+1, len(datas)):    # 用記錄的max數與其他的比較\n",
        "            if datas[j] > datas[min]:\n",
        "                min = j\n",
        "\n",
        "        datas[i], datas[min] = datas[min], datas[i]\n",
        "\n",
        "        print(\"第\",i+1,\"次排序:\",datas)\n",
        "        print('---'*10)\n",
        "    return datas\n",
        "\n",
        "\n",
        "if __name__ == '__main__':\n",
        "    import random\n",
        "    a = [random.randint(0,99) for _ in range(8)]\n",
        "    random.shuffle(a)\n",
        "    print(\"原始資料為:\", a)\n",
        "    a = Selction_Sort(a)\n",
        "    print(a)\n"
      ],
      "execution_count": 29,
      "outputs": [
        {
          "output_type": "stream",
          "text": [
            "原始資料為: [29, 35, 0, 21, 32, 35, 62, 58]\n",
            "第 1 次排序: [62, 35, 0, 21, 32, 35, 29, 58]\n",
            "------------------------------\n",
            "第 2 次排序: [62, 58, 0, 21, 32, 35, 29, 35]\n",
            "------------------------------\n",
            "第 3 次排序: [62, 58, 35, 21, 32, 0, 29, 35]\n",
            "------------------------------\n",
            "第 4 次排序: [62, 58, 35, 35, 32, 0, 29, 21]\n",
            "------------------------------\n",
            "第 5 次排序: [62, 58, 35, 35, 32, 0, 29, 21]\n",
            "------------------------------\n",
            "第 6 次排序: [62, 58, 35, 35, 32, 29, 0, 21]\n",
            "------------------------------\n",
            "第 7 次排序: [62, 58, 35, 35, 32, 29, 21, 0]\n",
            "------------------------------\n",
            "[62, 58, 35, 35, 32, 29, 21, 0]\n"
          ],
          "name": "stdout"
        }
      ]
    },
    {
      "cell_type": "code",
      "metadata": {
        "colab": {
          "base_uri": "https://localhost:8080/"
        },
        "id": "Kj1YrVdIVHkU",
        "outputId": "5681f755-d0ec-41b9-f010-f87ac02f9ea9"
      },
      "source": [
        "#插入排序法\n",
        "def Insertion_Sort(datas):\n",
        "    for i in range(1, len(datas)):  # \n",
        "        for j in range(i):\n",
        "            current = datas[i]\n",
        "            if current < datas[j]:\n",
        "                for k in range(i,j):\n",
        "                  print(datas)\n",
        "    return datas\n",
        "\n",
        "\n",
        "def insertionSort(arr):\n",
        "    for i in range(len(arr)):\n",
        "        preIndex = i-1\n",
        "        current = arr[i]\n",
        "        while preIndex >= 0 and arr[preIndex] > current:\n",
        "            arr[preIndex+1] = arr[preIndex]\n",
        "            preIndex-=1\n",
        "        arr[preIndex+1] = current\n",
        "        print(\"第\",i+1,\"次排序:\",arr)\n",
        "    return arr\n",
        "\n",
        "if __name__ == '__main__':\n",
        "    import random\n",
        "    a = [random.randint(0,99) for _ in range(8)]\n",
        "    random.shuffle(a)\n",
        "    b = a.copy()\n",
        "    print(\"原始資料為:\",a)\n",
        "\n",
        "    arr = insertionSort(a)\n",
        "    print('---'*10)\n",
        "    Insertion_Sort(b)"
      ],
      "execution_count": 34,
      "outputs": [
        {
          "output_type": "stream",
          "text": [
            "原始資料為: [16, 75, 61, 54, 63, 62, 9, 51]\n",
            "第 1 次排序: [16, 75, 61, 54, 63, 62, 9, 51]\n",
            "第 2 次排序: [16, 75, 61, 54, 63, 62, 9, 51]\n",
            "第 3 次排序: [16, 61, 75, 54, 63, 62, 9, 51]\n",
            "第 4 次排序: [16, 54, 61, 75, 63, 62, 9, 51]\n",
            "第 5 次排序: [16, 54, 61, 63, 75, 62, 9, 51]\n",
            "第 6 次排序: [16, 54, 61, 62, 63, 75, 9, 51]\n",
            "第 7 次排序: [9, 16, 54, 61, 62, 63, 75, 51]\n",
            "第 8 次排序: [9, 16, 51, 54, 61, 62, 63, 75]\n",
            "------------------------------\n"
          ],
          "name": "stdout"
        }
      ]
    }
  ]
}